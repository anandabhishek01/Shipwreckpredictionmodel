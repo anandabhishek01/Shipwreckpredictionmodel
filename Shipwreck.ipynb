{
  "nbformat": 4,
  "nbformat_minor": 0,
  "metadata": {
    "colab": {
      "name": "Shipwreck.ipynb",
      "provenance": [],
      "collapsed_sections": []
    },
    "kernelspec": {
      "name": "python3",
      "display_name": "Python 3"
    },
    "language_info": {
      "name": "python"
    }
  },
  "cells": [
    {
      "cell_type": "code",
      "metadata": {
        "id": "tLtj4JLgtHvj"
      },
      "source": [
        "from sklearn.model_selection import train_test_split\n",
        "import tensorflow as tf\n",
        "import pandas as pd"
      ],
      "execution_count": null,
      "outputs": []
    },
    {
      "cell_type": "markdown",
      "metadata": {
        "id": "hyCMwc_3tUHe"
      },
      "source": [
        "**Import and pre-process the data**"
      ]
    },
    {
      "cell_type": "code",
      "metadata": {
        "id": "oJCW1Z5ytY_K"
      },
      "source": [
        "df = pd.read_csv('https://cdn.techroulette.xyz/projects/shipwreck/data/m3_data.csv')\n",
        "df = df.drop(['Name','Ticket','Sex','Cabin','Fare','SibSp','Parch','Embarked'],axis=1)"
      ],
      "execution_count": null,
      "outputs": []
    },
    {
      "cell_type": "markdown",
      "metadata": {
        "id": "M_fAkxXgvbVy"
      },
      "source": [
        "**Training data set and testing data set**"
      ]
    },
    {
      "cell_type": "code",
      "metadata": {
        "id": "2xb0P-A2vdt9"
      },
      "source": [
        "y = df.pop('Survived')\n",
        "x = df\n",
        "x_train, x_test, y_train, y_test = train_test_split(x, y,test_size=0.3)"
      ],
      "execution_count": null,
      "outputs": []
    },
    {
      "cell_type": "markdown",
      "metadata": {
        "id": "hOEdq7FpwEWe"
      },
      "source": [
        "**Set up the model**"
      ]
    },
    {
      "cell_type": "code",
      "metadata": {
        "id": "StSUUPw7wGhe"
      },
      "source": [
        "model = tf.keras.models.Sequential()\n",
        "model.add(tf.keras.layers.Dense(10, input_shape=(3,), activation=\"relu\"))\n",
        "model.add(tf.keras.layers.Dense(1, activation=\"sigmoid\"))"
      ],
      "execution_count": null,
      "outputs": []
    },
    {
      "cell_type": "markdown",
      "metadata": {
        "id": "BYf1Zu0xwOVT"
      },
      "source": [
        "**Train the model**"
      ]
    },
    {
      "cell_type": "code",
      "metadata": {
        "colab": {
          "base_uri": "https://localhost:8080/"
        },
        "id": "l5wHl2kjwTYS",
        "outputId": "e176ff67-c32b-4b68-c1a1-274495553d47"
      },
      "source": [
        "model.compile(optimizer=\"adam\",loss=\"binary_crossentropy\", metrics=[\"accuracy\"])\n",
        "model.fit(x_train, y_train, epochs=100)"
      ],
      "execution_count": null,
      "outputs": [
        {
          "output_type": "stream",
          "text": [
            "Epoch 1/100\n",
            "20/20 [==============================] - 0s 2ms/step - loss: nan - accuracy: 0.5971\n",
            "Epoch 2/100\n",
            "20/20 [==============================] - 0s 2ms/step - loss: nan - accuracy: 0.5971\n",
            "Epoch 3/100\n",
            "20/20 [==============================] - 0s 2ms/step - loss: nan - accuracy: 0.5971\n",
            "Epoch 4/100\n",
            "20/20 [==============================] - 0s 1ms/step - loss: nan - accuracy: 0.5971\n",
            "Epoch 5/100\n",
            "20/20 [==============================] - 0s 1ms/step - loss: nan - accuracy: 0.5971\n",
            "Epoch 6/100\n",
            "20/20 [==============================] - 0s 2ms/step - loss: nan - accuracy: 0.5971\n",
            "Epoch 7/100\n",
            "20/20 [==============================] - 0s 1ms/step - loss: nan - accuracy: 0.5971\n",
            "Epoch 8/100\n",
            "20/20 [==============================] - 0s 2ms/step - loss: nan - accuracy: 0.5971\n",
            "Epoch 9/100\n",
            "20/20 [==============================] - 0s 1ms/step - loss: nan - accuracy: 0.5971\n",
            "Epoch 10/100\n",
            "20/20 [==============================] - 0s 2ms/step - loss: nan - accuracy: 0.5971\n",
            "Epoch 11/100\n",
            "20/20 [==============================] - 0s 2ms/step - loss: nan - accuracy: 0.5971\n",
            "Epoch 12/100\n",
            "20/20 [==============================] - 0s 2ms/step - loss: nan - accuracy: 0.5971\n",
            "Epoch 13/100\n",
            "20/20 [==============================] - 0s 1ms/step - loss: nan - accuracy: 0.5971\n",
            "Epoch 14/100\n",
            "20/20 [==============================] - 0s 1ms/step - loss: nan - accuracy: 0.5971\n",
            "Epoch 15/100\n",
            "20/20 [==============================] - 0s 1ms/step - loss: nan - accuracy: 0.5971\n",
            "Epoch 16/100\n",
            "20/20 [==============================] - 0s 2ms/step - loss: nan - accuracy: 0.5971\n",
            "Epoch 17/100\n",
            "20/20 [==============================] - 0s 2ms/step - loss: nan - accuracy: 0.5971\n",
            "Epoch 18/100\n",
            "20/20 [==============================] - 0s 2ms/step - loss: nan - accuracy: 0.5971\n",
            "Epoch 19/100\n",
            "20/20 [==============================] - 0s 1ms/step - loss: nan - accuracy: 0.5971\n",
            "Epoch 20/100\n",
            "20/20 [==============================] - 0s 1ms/step - loss: nan - accuracy: 0.5971\n",
            "Epoch 21/100\n",
            "20/20 [==============================] - 0s 1ms/step - loss: nan - accuracy: 0.5971\n",
            "Epoch 22/100\n",
            "20/20 [==============================] - 0s 1ms/step - loss: nan - accuracy: 0.5971\n",
            "Epoch 23/100\n",
            "20/20 [==============================] - 0s 2ms/step - loss: nan - accuracy: 0.5971\n",
            "Epoch 24/100\n",
            "20/20 [==============================] - 0s 1ms/step - loss: nan - accuracy: 0.5971\n",
            "Epoch 25/100\n",
            "20/20 [==============================] - 0s 1ms/step - loss: nan - accuracy: 0.5971\n",
            "Epoch 26/100\n",
            "20/20 [==============================] - 0s 1ms/step - loss: nan - accuracy: 0.5971\n",
            "Epoch 27/100\n",
            "20/20 [==============================] - 0s 2ms/step - loss: nan - accuracy: 0.5971\n",
            "Epoch 28/100\n",
            "20/20 [==============================] - 0s 1ms/step - loss: nan - accuracy: 0.5971\n",
            "Epoch 29/100\n",
            "20/20 [==============================] - 0s 2ms/step - loss: nan - accuracy: 0.5971\n",
            "Epoch 30/100\n",
            "20/20 [==============================] - 0s 2ms/step - loss: nan - accuracy: 0.5971\n",
            "Epoch 31/100\n",
            "20/20 [==============================] - 0s 2ms/step - loss: nan - accuracy: 0.5971\n",
            "Epoch 32/100\n",
            "20/20 [==============================] - 0s 2ms/step - loss: nan - accuracy: 0.5971\n",
            "Epoch 33/100\n",
            "20/20 [==============================] - 0s 2ms/step - loss: nan - accuracy: 0.5971\n",
            "Epoch 34/100\n",
            "20/20 [==============================] - 0s 1ms/step - loss: nan - accuracy: 0.5971\n",
            "Epoch 35/100\n",
            "20/20 [==============================] - 0s 1ms/step - loss: nan - accuracy: 0.5971\n",
            "Epoch 36/100\n",
            "20/20 [==============================] - 0s 1ms/step - loss: nan - accuracy: 0.5971\n",
            "Epoch 37/100\n",
            "20/20 [==============================] - 0s 1ms/step - loss: nan - accuracy: 0.5971\n",
            "Epoch 38/100\n",
            "20/20 [==============================] - 0s 2ms/step - loss: nan - accuracy: 0.5971\n",
            "Epoch 39/100\n",
            "20/20 [==============================] - 0s 2ms/step - loss: nan - accuracy: 0.5971\n",
            "Epoch 40/100\n",
            "20/20 [==============================] - 0s 2ms/step - loss: nan - accuracy: 0.5971\n",
            "Epoch 41/100\n",
            "20/20 [==============================] - 0s 4ms/step - loss: nan - accuracy: 0.5971\n",
            "Epoch 42/100\n",
            "20/20 [==============================] - 0s 2ms/step - loss: nan - accuracy: 0.5971\n",
            "Epoch 43/100\n",
            "20/20 [==============================] - 0s 2ms/step - loss: nan - accuracy: 0.5971\n",
            "Epoch 44/100\n",
            "20/20 [==============================] - 0s 2ms/step - loss: nan - accuracy: 0.5971\n",
            "Epoch 45/100\n",
            "20/20 [==============================] - 0s 2ms/step - loss: nan - accuracy: 0.5971\n",
            "Epoch 46/100\n",
            "20/20 [==============================] - 0s 2ms/step - loss: nan - accuracy: 0.5971\n",
            "Epoch 47/100\n",
            "20/20 [==============================] - 0s 2ms/step - loss: nan - accuracy: 0.5971\n",
            "Epoch 48/100\n",
            "20/20 [==============================] - 0s 2ms/step - loss: nan - accuracy: 0.5971\n",
            "Epoch 49/100\n",
            "20/20 [==============================] - 0s 2ms/step - loss: nan - accuracy: 0.5971\n",
            "Epoch 50/100\n",
            "20/20 [==============================] - 0s 2ms/step - loss: nan - accuracy: 0.5971\n",
            "Epoch 51/100\n",
            "20/20 [==============================] - 0s 2ms/step - loss: nan - accuracy: 0.5971\n",
            "Epoch 52/100\n",
            "20/20 [==============================] - 0s 1ms/step - loss: nan - accuracy: 0.5971\n",
            "Epoch 53/100\n",
            "20/20 [==============================] - 0s 1ms/step - loss: nan - accuracy: 0.5971\n",
            "Epoch 54/100\n",
            "20/20 [==============================] - 0s 1ms/step - loss: nan - accuracy: 0.5971\n",
            "Epoch 55/100\n",
            "20/20 [==============================] - 0s 2ms/step - loss: nan - accuracy: 0.5971\n",
            "Epoch 56/100\n",
            "20/20 [==============================] - 0s 1ms/step - loss: nan - accuracy: 0.5971\n",
            "Epoch 57/100\n",
            "20/20 [==============================] - 0s 2ms/step - loss: nan - accuracy: 0.5971\n",
            "Epoch 58/100\n",
            "20/20 [==============================] - 0s 1ms/step - loss: nan - accuracy: 0.5971\n",
            "Epoch 59/100\n",
            "20/20 [==============================] - 0s 2ms/step - loss: nan - accuracy: 0.5971\n",
            "Epoch 60/100\n",
            "20/20 [==============================] - 0s 1ms/step - loss: nan - accuracy: 0.5971\n",
            "Epoch 61/100\n",
            "20/20 [==============================] - 0s 2ms/step - loss: nan - accuracy: 0.5971\n",
            "Epoch 62/100\n",
            "20/20 [==============================] - 0s 2ms/step - loss: nan - accuracy: 0.5971\n",
            "Epoch 63/100\n",
            "20/20 [==============================] - 0s 1ms/step - loss: nan - accuracy: 0.5971\n",
            "Epoch 64/100\n",
            "20/20 [==============================] - 0s 1ms/step - loss: nan - accuracy: 0.5971\n",
            "Epoch 65/100\n",
            "20/20 [==============================] - 0s 1ms/step - loss: nan - accuracy: 0.5971\n",
            "Epoch 66/100\n",
            "20/20 [==============================] - 0s 2ms/step - loss: nan - accuracy: 0.5971\n",
            "Epoch 67/100\n",
            "20/20 [==============================] - 0s 2ms/step - loss: nan - accuracy: 0.5971\n",
            "Epoch 68/100\n",
            "20/20 [==============================] - 0s 2ms/step - loss: nan - accuracy: 0.5971\n",
            "Epoch 69/100\n",
            "20/20 [==============================] - 0s 2ms/step - loss: nan - accuracy: 0.5971\n",
            "Epoch 70/100\n",
            "20/20 [==============================] - 0s 2ms/step - loss: nan - accuracy: 0.5971\n",
            "Epoch 71/100\n",
            "20/20 [==============================] - 0s 1ms/step - loss: nan - accuracy: 0.5971\n",
            "Epoch 72/100\n",
            "20/20 [==============================] - 0s 1ms/step - loss: nan - accuracy: 0.5971\n",
            "Epoch 73/100\n",
            "20/20 [==============================] - 0s 2ms/step - loss: nan - accuracy: 0.5971\n",
            "Epoch 74/100\n",
            "20/20 [==============================] - 0s 2ms/step - loss: nan - accuracy: 0.5971\n",
            "Epoch 75/100\n",
            "20/20 [==============================] - 0s 2ms/step - loss: nan - accuracy: 0.5971\n",
            "Epoch 76/100\n",
            "20/20 [==============================] - 0s 2ms/step - loss: nan - accuracy: 0.5971\n",
            "Epoch 77/100\n",
            "20/20 [==============================] - 0s 2ms/step - loss: nan - accuracy: 0.5971\n",
            "Epoch 78/100\n",
            "20/20 [==============================] - 0s 2ms/step - loss: nan - accuracy: 0.5971\n",
            "Epoch 79/100\n",
            "20/20 [==============================] - 0s 1ms/step - loss: nan - accuracy: 0.5971\n",
            "Epoch 80/100\n",
            "20/20 [==============================] - 0s 1ms/step - loss: nan - accuracy: 0.5971\n",
            "Epoch 81/100\n",
            "20/20 [==============================] - 0s 2ms/step - loss: nan - accuracy: 0.5971\n",
            "Epoch 82/100\n",
            "20/20 [==============================] - 0s 2ms/step - loss: nan - accuracy: 0.5971\n",
            "Epoch 83/100\n",
            "20/20 [==============================] - 0s 2ms/step - loss: nan - accuracy: 0.5971\n",
            "Epoch 84/100\n",
            "20/20 [==============================] - 0s 2ms/step - loss: nan - accuracy: 0.5971\n",
            "Epoch 85/100\n",
            "20/20 [==============================] - 0s 2ms/step - loss: nan - accuracy: 0.5971\n",
            "Epoch 86/100\n",
            "20/20 [==============================] - 0s 1ms/step - loss: nan - accuracy: 0.5971\n",
            "Epoch 87/100\n",
            "20/20 [==============================] - 0s 2ms/step - loss: nan - accuracy: 0.5971\n",
            "Epoch 88/100\n",
            "20/20 [==============================] - 0s 2ms/step - loss: nan - accuracy: 0.5971\n",
            "Epoch 89/100\n",
            "20/20 [==============================] - 0s 2ms/step - loss: nan - accuracy: 0.5971\n",
            "Epoch 90/100\n",
            "20/20 [==============================] - 0s 2ms/step - loss: nan - accuracy: 0.5971\n",
            "Epoch 91/100\n",
            "20/20 [==============================] - 0s 2ms/step - loss: nan - accuracy: 0.5971\n",
            "Epoch 92/100\n",
            "20/20 [==============================] - 0s 2ms/step - loss: nan - accuracy: 0.5971\n",
            "Epoch 93/100\n",
            "20/20 [==============================] - 0s 2ms/step - loss: nan - accuracy: 0.5971\n",
            "Epoch 94/100\n",
            "20/20 [==============================] - 0s 2ms/step - loss: nan - accuracy: 0.5971\n",
            "Epoch 95/100\n",
            "20/20 [==============================] - 0s 2ms/step - loss: nan - accuracy: 0.5971\n",
            "Epoch 96/100\n",
            "20/20 [==============================] - 0s 2ms/step - loss: nan - accuracy: 0.5971\n",
            "Epoch 97/100\n",
            "20/20 [==============================] - 0s 2ms/step - loss: nan - accuracy: 0.5971\n",
            "Epoch 98/100\n",
            "20/20 [==============================] - 0s 2ms/step - loss: nan - accuracy: 0.5971\n",
            "Epoch 99/100\n",
            "20/20 [==============================] - 0s 2ms/step - loss: nan - accuracy: 0.5971\n",
            "Epoch 100/100\n",
            "20/20 [==============================] - 0s 2ms/step - loss: nan - accuracy: 0.5971\n"
          ],
          "name": "stdout"
        },
        {
          "output_type": "execute_result",
          "data": {
            "text/plain": [
              "<tensorflow.python.keras.callbacks.History at 0x7ffa8348b690>"
            ]
          },
          "metadata": {
            "tags": []
          },
          "execution_count": 63
        }
      ]
    },
    {
      "cell_type": "markdown",
      "metadata": {
        "id": "IkCnlYpE5EKw"
      },
      "source": [
        "**Test the model**"
      ]
    },
    {
      "cell_type": "code",
      "metadata": {
        "colab": {
          "base_uri": "https://localhost:8080/"
        },
        "id": "9YPDYy0A5GGz",
        "outputId": "356271c4-7962-4c1f-e32c-b81dc0498b2d"
      },
      "source": [
        "model.evaluate(x_test, y_test, verbose=2)"
      ],
      "execution_count": null,
      "outputs": [
        {
          "output_type": "stream",
          "text": [
            "9/9 - 0s - loss: nan - accuracy: 0.6604\n"
          ],
          "name": "stdout"
        },
        {
          "output_type": "execute_result",
          "data": {
            "text/plain": [
              "[nan, 0.6604477763175964]"
            ]
          },
          "metadata": {
            "tags": []
          },
          "execution_count": 64
        }
      ]
    }
  ]
}